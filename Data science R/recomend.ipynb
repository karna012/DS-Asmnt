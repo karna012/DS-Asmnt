{
 "cells": [
  {
   "cell_type": "code",
   "execution_count": null,
   "metadata": {},
   "outputs": [],
   "source": [
    "import pandas as pd\n",
    "from sklearn.feature_extraction.text import TfidfVectorizer as tfidv\n",
    "from sklearn.metrics.pairwise import linear_kernel as linker\n",
    "\n",
    "book = pd.read_csv(\"book.csv\",encoding= 'latin-1')\n",
    "book.shape\n",
    "book.columns\n",
    "book = book.iloc[:,1:]\n",
    "\n",
    "tfidf = tfidv(stop_words=\"english\")\n",
    "book[\"Book.Title\"].isnull().sum() \n",
    "tfidf_matrix = tfidf.fit_transform(book[\"Book.Title\"])\n",
    "tfidf_matrix.shape \n",
    "\n",
    "# Computing the cosine similarity on Tfidf matrix\n",
    "cosine_sim_matrix = linker(tfidf_matrix,tfidf_matrix)\n",
    "\n",
    "# creating a mapping of anime name to index number \n",
    "book_index = pd.Series(book.index,index=book['Book.Title']).drop_duplicates()\n",
    "book_index[\"American Pastoral\"]\n",
    "\n",
    "def get_books(Name,topN):\n",
    "    \n",
    "    book_id = book_index[Name]\n",
    "    \n",
    "    # Getting the pair wise similarit score for all the book with that book \n",
    "    cosine_scores = list(enumerate(cosine_sim_matrix[book_id]))\n",
    "    \n",
    "    # Sorting the cosine_similarity scores based on scores \n",
    "    cosine_scores = sorted(cosine_scores,key=lambda x:x[1],reverse = True)\n",
    "    \n",
    "    # Get the scores of top 10 most similar book\n",
    "    cosine_scores_10 = cosine_scores[0:topN+1]\n",
    "    \n",
    "    # Getting the books by index \n",
    "    book_idx  =  [i[0] for i in cosine_scores_10]\n",
    "    book_scores =  [i[1] for i in cosine_scores_10]\n",
    "    \n",
    "    # Similar book\n",
    "    book_same = pd.DataFrame(columns=[\"name\",\"Score\"])\n",
    "    book_same[\"name\"] = book.loc[book_idx,\"Book.Title\"]\n",
    "    book_same[\"Score\"] = book_scores\n",
    "    book_same.reset_index(inplace=True)  \n",
    "    book_same.drop([\"index\"],axis=1,inplace=True)\n",
    "    print (book_same)\n",
    "    \n",
    "# Enter your book and number of books to be recommended \n",
    "get_books(\"American Pastoral\",topN=10)\n",
    "get_books(\"Timeline\",topN=5)\n",
    "get_books(\"Haveli (Laurel Leaf Books)\",topN=15)\n",
    "get_books(\"Goodbye, My Little Ones: The True Story of a Murderous Mother and Five Innocent Victims\",topN=20)\n",
    "get_books(\"My Cat Spit McGee\",topN=3)\n",
    "get_books(\"Move Your Stuff, Change Your Life : How to Use Feng Shui to Get Love, Money, Respect and Happiness\",topN=50)\n",
    "get_books(\"The World's Shortest Stories: Murder, Love, Horror, Suspense, All This and Much More in the Most Amazing Short Stories Ever Written, Each One Just 55 Words Long\",topN=11)\n"
   ]
  }
 ],
 "metadata": {
  "kernelspec": {
   "display_name": "Python 3",
   "language": "python",
   "name": "python3"
  },
  "language_info": {
   "codemirror_mode": {
    "name": "ipython",
    "version": 3
   },
   "file_extension": ".py",
   "mimetype": "text/x-python",
   "name": "python",
   "nbconvert_exporter": "python",
   "pygments_lexer": "ipython3",
   "version": "3.8.5"
  }
 },
 "nbformat": 4,
 "nbformat_minor": 4
}
